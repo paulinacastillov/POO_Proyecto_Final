{
 "cells": [
  {
   "cell_type": "code",
   "execution_count": 20,
   "metadata": {},
   "outputs": [],
   "source": [
    "import sqlite3\n"
   ]
  },
  {
   "cell_type": "code",
   "execution_count": 21,
   "metadata": {},
   "outputs": [
    {
     "name": "stdout",
     "output_type": "stream",
     "text": [
      "Tablas 'Proveedor' e 'Inventario' creadas exitosamente en la base de datos 'mi_basede_datos.db'\n"
     ]
    }
   ],
   "source": [
    "\n",
    "# Conectar a la base de datos (creará el archivo si no existe)\n",
    "conn = sqlite3.connect('Inventario.db')\n",
    "\n",
    "# Crear un cursor para ejecutar comandos SQL\n",
    "cursor = conn.cursor()\n",
    "\n",
    "# Crear la tabla de Proveedor\n",
    "cursor.execute('''\n",
    "    CREATE TABLE Proveedores (\n",
    "        idNitProv VARCHAR PRIMARY KEY NOT NULL,\n",
    "        Razon_Social VARCHAR,\n",
    "        Ciudad VARCHAR\n",
    "    )\n",
    "''')\n",
    "\n",
    "#Crear la tabla de Inventario\n",
    "\n",
    "\"\"\" Tal vez más adelante \n",
    "FOREIGN KEY (idNitProv) REFERENCES Proveedor(idNitProv)\n",
    "\"\"\" \n",
    "\n",
    "cursor.execute('''\n",
    "    CREATE TABLE Productos (\n",
    "        idNit VARCHAR(15),\n",
    "        Codigo VARCHAR PRIMARY KEY NOT NULL,\n",
    "        Descripcion VARCHAR,\n",
    "        Und VARCHAR(10),\n",
    "        Cantidad DOUBLE,\n",
    "        Precio DOUBLE,\n",
    "        Fecha DATE\n",
    "    )\n",
    "''')\n",
    "\n",
    "# Guardar los cambios y cerrar la conexión\n",
    "conn.commit()\n",
    "conn.close()\n",
    "\n",
    "print(\"Tablas 'Proveedor' e 'Inventario' creadas exitosamente en la base de datos 'mi_basede_datos.db'\")\n"
   ]
  },
  {
   "cell_type": "code",
   "execution_count": 19,
   "metadata": {},
   "outputs": [
    {
     "name": "stdout",
     "output_type": "stream",
     "text": [
      "Proveedores:\n"
     ]
    }
   ],
   "source": [
    "# Conectar a la base de datos\n",
    "conn = sqlite3.connect('Inventario.db')\n",
    "\n",
    "# Crear un cursor\n",
    "cursor = conn.cursor()\n",
    "\n",
    "# Ejecutar una consulta para obtener datos de la tabla Proveedores\n",
    "cursor.execute('SELECT * FROM Proveedores')\n",
    "\n",
    "# Obtener todos los resultados de la consulta\n",
    "proveedores = cursor.fetchall()\n",
    "\n",
    "# Mostrar los resultados\n",
    "print(\"Proveedores:\")\n",
    "for proveedor in proveedores:\n",
    "    print(\"ID Nit:\", proveedor[0])\n",
    "    print(\"Razón Social:\", proveedor[1])\n",
    "    print(\"Ciudad:\", proveedor[2])\n",
    "    print(\"\\n\")\n",
    "\n",
    "# Cerrar la conexión\n",
    "conn.close()\n"
   ]
  }
 ],
 "metadata": {
  "kernelspec": {
   "display_name": "Python 3",
   "language": "python",
   "name": "python3"
  },
  "language_info": {
   "codemirror_mode": {
    "name": "ipython",
    "version": 3
   },
   "file_extension": ".py",
   "mimetype": "text/x-python",
   "name": "python",
   "nbconvert_exporter": "python",
   "pygments_lexer": "ipython3",
   "version": "3.10.8"
  }
 },
 "nbformat": 4,
 "nbformat_minor": 2
}
