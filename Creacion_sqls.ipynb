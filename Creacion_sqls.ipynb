{
 "cells": [
  {
   "cell_type": "code",
   "execution_count": 3,
   "metadata": {},
   "outputs": [],
   "source": [
    "import sqlite3\n",
    "import os\n"
   ]
  },
  {
   "cell_type": "code",
   "execution_count": 4,
   "metadata": {},
   "outputs": [],
   "source": [
    "import sqlite3\n",
    "\n",
    "# Conectar a la base de datos o crearla si no existe\n",
    "conn = sqlite3.connect('mi_base_de_datos.db')\n",
    "\n",
    "# Crear un cursor para ejecutar comandos SQL\n",
    "cursor = conn.cursor()\n",
    "\n",
    "# Crear la tabla Proveedores\n",
    "cursor.execute('''\n",
    "    CREATE TABLE Proveedores (\n",
    "        idNitProv TEXT,\n",
    "        Razon_Social TEXT,\n",
    "        Ciudad TEXT\n",
    "    )\n",
    "''')\n",
    "\n",
    "# Guardar los cambios y cerrar la conexión\n",
    "conn.commit()\n",
    "conn.close()"
   ]
  }
 ],
 "metadata": {
  "kernelspec": {
   "display_name": "Python 3",
   "language": "python",
   "name": "python3"
  },
  "language_info": {
   "codemirror_mode": {
    "name": "ipython",
    "version": 3
   },
   "file_extension": ".py",
   "mimetype": "text/x-python",
   "name": "python",
   "nbconvert_exporter": "python",
   "pygments_lexer": "ipython3",
   "version": "3.10.8"
  }
 },
 "nbformat": 4,
 "nbformat_minor": 2
}
