{
 "cells": [
  {
   "cell_type": "code",
   "execution_count": 16,
   "metadata": {},
   "outputs": [],
   "source": [
    "import sqlite3\n",
    "import random\n",
    "from faker import Faker\n",
    "from datetime import datetime"
   ]
  },
  {
   "cell_type": "code",
   "execution_count": 10,
   "metadata": {},
   "outputs": [
    {
     "name": "stdout",
     "output_type": "stream",
     "text": [
      "Tablas 'Proveedor' e 'Inventario' creadas exitosamente en la base de datos 'mi_basede_datos.db'\n"
     ]
    }
   ],
   "source": [
    "\n",
    "# Conectar a la base de datos (creará el archivo si no existe)\n",
    "conn = sqlite3.connect('Inventario.db')\n",
    "\n",
    "# Crear un cursor para ejecutar comandos SQL\n",
    "cursor = conn.cursor()\n",
    "\n",
    "## Crear la tabla de Proveedor\n",
    "# cursor.execute('''\n",
    "#     CREATE TABLE Proveedores (\n",
    "#         idNitProv VARCHAR PRIMARY KEY NOT NULL,\n",
    "#         Razon_Social VARCHAR,\n",
    "#         Ciudad VARCHAR\n",
    "#     )\n",
    "# ''')\n",
    "\n",
    "# Crear la tabla de Inventario\n",
    "\n",
    "\"\"\" Tal vez más adelante \n",
    "FOREIGN KEY (idNitProv) REFERENCES Proveedor(idNitProv)\n",
    "\"\"\" \n",
    "\n",
    "cursor.execute('''\n",
    "    CREATE TABLE Productos (\n",
    "        idNit VARCHAR(15),\n",
    "        Codigo VARCHAR PRIMARY KEY NOT NULL,\n",
    "        Descripcion VARCHAR,\n",
    "        Und DOUBLE,\n",
    "        Cantidad DOUBLE,\n",
    "        Precio DOUBLE,\n",
    "        Fecha DATE\n",
    "    )\n",
    "''')\n",
    "\n",
    "# Guardar los cambios y cerrar la conexión\n",
    "conn.commit()\n",
    "conn.close()\n",
    "\n",
    "print(\"Tablas 'Proveedor' e 'Inventario' creadas exitosamente en la base de datos 'mi_basede_datos.db'\")\n"
   ]
  },
  {
   "cell_type": "code",
   "execution_count": 15,
   "metadata": {},
   "outputs": [],
   "source": [
    "# Conectar a la base de datos\n",
    "conn = sqlite3.connect('Inventario.db')\n",
    "cursor = conn.cursor()\n",
    "\n",
    "# Generar datos aleatorios para Productos\n",
    "def generar_producto():\n",
    "    idNit = ''.join(random.choices('0123456789', k=15))\n",
    "    codigo = 'PROD' + str(random.randint(1, 100))\n",
    "    descripcion = fake.sentence()\n",
    "    und = random.choice(['Unidad', 'Caja', 'Docena', 'Kg', 'Litro'])\n",
    "    cantidad = random.randint(1, 1000)\n",
    "    precio = round(random.uniform(1, 1000), 2)\n",
    "    fecha = fake.date_this_decade()\n",
    "    return (idNit, codigo, descripcion, und, cantidad, precio, fecha)\n",
    "\n",
    "# Generar datos aleatorios para Proveedores\n",
    "def generar_proveedor():\n",
    "    idNitProv = ''.join(random.choices('0123456789', k=10))\n",
    "    razon_social = fake.company()\n",
    "    ciudad = fake.city()\n",
    "    return (idNitProv, razon_social, ciudad)\n",
    "\n",
    "# Crear instancias de Faker\n",
    "fake = Faker()\n"
   ]
  },
  {
   "cell_type": "code",
   "execution_count": 18,
   "metadata": {},
   "outputs": [
    {
     "ename": "OperationalError",
     "evalue": "near \"relate\": syntax error",
     "output_type": "error",
     "traceback": [
      "\u001b[1;31m---------------------------------------------------------------------------\u001b[0m",
      "\u001b[1;31mOperationalError\u001b[0m                          Traceback (most recent call last)",
      "\u001b[1;32mc:\\Users\\anapa\\Documents\\Universidad\\POO\\Proyecto\\Creacion_sqls.ipynb Celda 4\u001b[0m line \u001b[0;36m8\n\u001b[0;32m      <a href='vscode-notebook-cell:/c%3A/Users/anapa/Documents/Universidad/POO/Proyecto/Creacion_sqls.ipynb#W5sZmlsZQ%3D%3D?line=2'>3</a>\u001b[0m     producto \u001b[39m=\u001b[39m generar_producto()\n\u001b[0;32m      <a href='vscode-notebook-cell:/c%3A/Users/anapa/Documents/Universidad/POO/Proyecto/Creacion_sqls.ipynb#W5sZmlsZQ%3D%3D?line=3'>4</a>\u001b[0m     comando \u001b[39m=\u001b[39m \u001b[39mstr\u001b[39m(\u001b[39mf\u001b[39m\u001b[39m'''\u001b[39m\n\u001b[0;32m      <a href='vscode-notebook-cell:/c%3A/Users/anapa/Documents/Universidad/POO/Proyecto/Creacion_sqls.ipynb#W5sZmlsZQ%3D%3D?line=4'>5</a>\u001b[0m \u001b[39m        INSERT INTO Productos (idNit, Codigo, Descripcion, Und, Cantidad, Precio, Fecha)\u001b[39m\n\u001b[0;32m      <a href='vscode-notebook-cell:/c%3A/Users/anapa/Documents/Universidad/POO/Proyecto/Creacion_sqls.ipynb#W5sZmlsZQ%3D%3D?line=5'>6</a>\u001b[0m \u001b[39m        VALUES (\u001b[39m\u001b[39m{\u001b[39;00mproducto[\u001b[39m0\u001b[39m]\u001b[39m}\u001b[39;00m\u001b[39m, \u001b[39m\u001b[39m{\u001b[39;00mproducto[\u001b[39m1\u001b[39m]\u001b[39m}\u001b[39;00m\u001b[39m, \u001b[39m\u001b[39m{\u001b[39;00mproducto[\u001b[39m2\u001b[39m]\u001b[39m}\u001b[39;00m\u001b[39m, \u001b[39m\u001b[39m{\u001b[39;00mproducto[\u001b[39m3\u001b[39m]\u001b[39m}\u001b[39;00m\u001b[39m, \u001b[39m\u001b[39m{\u001b[39;00mproducto[\u001b[39m4\u001b[39m]\u001b[39m}\u001b[39;00m\u001b[39m, \u001b[39m\u001b[39m{\u001b[39;00mproducto[\u001b[39m5\u001b[39m]\u001b[39m}\u001b[39;00m\u001b[39m, \u001b[39m\u001b[39m{\u001b[39;00mproducto[\u001b[39m6\u001b[39m]\u001b[39m}\u001b[39;00m\u001b[39m)\u001b[39m\n\u001b[0;32m      <a href='vscode-notebook-cell:/c%3A/Users/anapa/Documents/Universidad/POO/Proyecto/Creacion_sqls.ipynb#W5sZmlsZQ%3D%3D?line=6'>7</a>\u001b[0m \u001b[39m    \u001b[39m\u001b[39m'''\u001b[39m)\n\u001b[1;32m----> <a href='vscode-notebook-cell:/c%3A/Users/anapa/Documents/Universidad/POO/Proyecto/Creacion_sqls.ipynb#W5sZmlsZQ%3D%3D?line=7'>8</a>\u001b[0m     cursor\u001b[39m.\u001b[39;49mexecute(comando)\n\u001b[0;32m     <a href='vscode-notebook-cell:/c%3A/Users/anapa/Documents/Universidad/POO/Proyecto/Creacion_sqls.ipynb#W5sZmlsZQ%3D%3D?line=9'>10</a>\u001b[0m \u001b[39m# Insertar datos aleatorios en la tabla de Proveedores\u001b[39;00m\n\u001b[0;32m     <a href='vscode-notebook-cell:/c%3A/Users/anapa/Documents/Universidad/POO/Proyecto/Creacion_sqls.ipynb#W5sZmlsZQ%3D%3D?line=10'>11</a>\u001b[0m \u001b[39mfor\u001b[39;00m _ \u001b[39min\u001b[39;00m \u001b[39mrange\u001b[39m(\u001b[39m4\u001b[39m):\n",
      "\u001b[1;31mOperationalError\u001b[0m: near \"relate\": syntax error"
     ]
    }
   ],
   "source": [
    "\n",
    "# Insertar datos aleatorios en la tabla de Productos\n",
    "for _ in range(12):\n",
    "    producto = generar_producto()\n",
    "    comando = str(f'''\n",
    "        INSERT INTO Productos (idNit, Codigo, Descripcion, Und, Cantidad, Precio, Fecha)\n",
    "        VALUES ({producto[0]}, {producto[1]}, {producto[2]}, {producto[3]}, {producto[4]}, {producto[5]}, {producto[6]})\n",
    "    ''')\n",
    "    cursor.execute(comando)\n",
    "\n",
    "# Insertar datos aleatorios en la tabla de Proveedores\n",
    "for _ in range(4):\n",
    "    proveedor = generar_proveedor()\n",
    "    comando =str(f'''\n",
    "        INSERT INTO Proveedores (idNitProv, Razon_Social, Ciudad)\n",
    "        VALUES ({proveedor[0]}, {proveedor[1]}, {proveedor[2]},)\n",
    "    ''')\n",
    "    cursor.execute(comando)\n",
    "\n",
    "# Guardar los cambios y cerrar la conexión\n",
    "conn.commit()\n",
    "conn.close()\n",
    "\n",
    "print(\"Datos aleatorios insertados exitosamente en las tablas 'Productos' y 'Proveedores'.\")\n"
   ]
  },
  {
   "cell_type": "code",
   "execution_count": 19,
   "metadata": {},
   "outputs": [
    {
     "name": "stdout",
     "output_type": "stream",
     "text": [
      "Proveedores:\n"
     ]
    }
   ],
   "source": [
    "# Conectar a la base de datos\n",
    "conn = sqlite3.connect('Inventario.db')\n",
    "\n",
    "# Crear un cursor\n",
    "cursor = conn.cursor()\n",
    "\n",
    "# Ejecutar una consulta para obtener datos de la tabla Proveedores\n",
    "cursor.execute('SELECT * FROM Proveedores')\n",
    "\n",
    "# Obtener todos los resultados de la consulta\n",
    "proveedores = cursor.fetchall()\n",
    "\n",
    "# Mostrar los resultados\n",
    "print(\"Proveedores:\")\n",
    "for proveedor in proveedores:\n",
    "    print(\"ID Nit:\", proveedor[0])\n",
    "    print(\"Razón Social:\", proveedor[1])\n",
    "    print(\"Ciudad:\", proveedor[2])\n",
    "    print(\"\\n\")\n",
    "\n",
    "# Cerrar la conexión\n",
    "conn.close()\n"
   ]
  },
  {
   "cell_type": "code",
   "execution_count": null,
   "metadata": {},
   "outputs": [],
   "source": []
  }
 ],
 "metadata": {
  "kernelspec": {
   "display_name": "Python 3",
   "language": "python",
   "name": "python3"
  },
  "language_info": {
   "codemirror_mode": {
    "name": "ipython",
    "version": 3
   },
   "file_extension": ".py",
   "mimetype": "text/x-python",
   "name": "python",
   "nbconvert_exporter": "python",
   "pygments_lexer": "ipython3",
   "version": "3.10.8"
  }
 },
 "nbformat": 4,
 "nbformat_minor": 2
}
